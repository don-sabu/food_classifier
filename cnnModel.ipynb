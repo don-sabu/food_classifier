{
 "cells": [
  {
   "cell_type": "code",
   "execution_count": 1,
   "id": "60bb5111-3a65-4a02-8ce5-b73df6bd9fcc",
   "metadata": {},
   "outputs": [],
   "source": [
    "import tensorflow as tf"
   ]
  },
  {
   "cell_type": "code",
   "execution_count": 2,
   "id": "ba93d06f-3d9c-4376-a8b5-968539bd5a81",
   "metadata": {},
   "outputs": [],
   "source": [
    "img_width, img_height, img_num_channels = 224, 224, 3\n",
    "loss_function = 'binary_crossentropy'\n",
    "optimizer = tf.keras.optimizers.Adam(learning_rate=0.001)\n",
    "batch_size = 32\n",
    "no_epochs = 30\n",
    "validation_split = 0.2\n",
    "verbosity = 1"
   ]
  },
  {
   "cell_type": "code",
   "execution_count": 4,
   "id": "5cad26b0-ee28-481e-a761-a43eb4303f13",
   "metadata": {},
   "outputs": [],
   "source": [
    "train_datagen = tf.keras.preprocessing.image.ImageDataGenerator(\n",
    "    rescale=1./255,\n",
    "    rotation_range=20,\n",
    "    width_shift_range=0.2,\n",
    "    height_shift_range=0.2,\n",
    "    shear_range=0.2,\n",
    "    zoom_range=0.2,\n",
    "    horizontal_flip=True,\n",
    "    validation_split=validation_split\n",
    ")"
   ]
  },
  {
   "cell_type": "code",
   "execution_count": 5,
   "id": "38d91b9e-156a-471b-93fd-298724872b0e",
   "metadata": {},
   "outputs": [
    {
     "name": "stdout",
     "output_type": "stream",
     "text": [
      "Found 744 images belonging to 2 classes.\n"
     ]
    }
   ],
   "source": [
    "train_generator = train_datagen.flow_from_directory(\n",
    "    'dataset/',  # Make sure to point to the root directory of your images\n",
    "    target_size=(img_width, img_height),\n",
    "    batch_size=batch_size,\n",
    "    class_mode='binary',\n",
    "    subset='training'\n",
    ")"
   ]
  },
  {
   "cell_type": "code",
   "execution_count": 6,
   "id": "0117a458-dcd0-4557-946f-34bbf9312afe",
   "metadata": {},
   "outputs": [
    {
     "name": "stdout",
     "output_type": "stream",
     "text": [
      "Found 186 images belonging to 2 classes.\n"
     ]
    }
   ],
   "source": [
    "validation_generator = train_datagen.flow_from_directory(\n",
    "    'dataset/',  # Make sure to point to the root directory of your images\n",
    "    target_size=(img_width, img_height),\n",
    "    batch_size=batch_size,\n",
    "    class_mode='binary',\n",
    "    subset='validation'\n",
    ")"
   ]
  },
  {
   "cell_type": "code",
   "execution_count": 14,
   "id": "b6296f2b-57a2-4a86-836b-bfa1371f9bad",
   "metadata": {},
   "outputs": [],
   "source": [
    "model = tf.keras.models.Sequential([\n",
    "    tf.keras.layers.Conv2D(32, kernel_size=(3, 3), activation='relu', input_shape=(img_width, img_height, img_num_channels)),\n",
    "    tf.keras.layers.MaxPooling2D(pool_size=(2, 2)),\n",
    "    tf.keras.layers.BatchNormalization(),\n",
    "\n",
    "    tf.keras.layers.Conv2D(64, kernel_size=(3, 3), activation='relu'),\n",
    "    tf.keras.layers.MaxPooling2D(pool_size=(2, 2)),\n",
    "    tf.keras.layers.BatchNormalization(),\n",
    "\n",
    "    tf.keras.layers.Conv2D(128, kernel_size=(3, 3), activation='relu'),\n",
    "    tf.keras.layers.MaxPooling2D(pool_size=(2, 2)),\n",
    "    tf.keras.layers.BatchNormalization(),\n",
    "    \n",
    "    tf.keras.layers.Flatten(),\n",
    "    tf.keras.layers.Dense(128, activation='relu'),\n",
    "    tf.keras.layers.Dropout(0.5),\n",
    "    tf.keras.layers.Dense(1, activation='sigmoid')\n",
    "])\n"
   ]
  },
  {
   "cell_type": "code",
   "execution_count": 15,
   "id": "9a882ae5-e649-4b76-9be3-507d2e688434",
   "metadata": {},
   "outputs": [
    {
     "name": "stdout",
     "output_type": "stream",
     "text": [
      "Model: \"sequential_2\"\n",
      "_________________________________________________________________\n",
      " Layer (type)                Output Shape              Param #   \n",
      "=================================================================\n",
      " conv2d_6 (Conv2D)           (None, 222, 222, 32)      896       \n",
      "                                                                 \n",
      " max_pooling2d_6 (MaxPooling  (None, 111, 111, 32)     0         \n",
      " 2D)                                                             \n",
      "                                                                 \n",
      " batch_normalization_6 (Batc  (None, 111, 111, 32)     128       \n",
      " hNormalization)                                                 \n",
      "                                                                 \n",
      " conv2d_7 (Conv2D)           (None, 109, 109, 64)      18496     \n",
      "                                                                 \n",
      " max_pooling2d_7 (MaxPooling  (None, 54, 54, 64)       0         \n",
      " 2D)                                                             \n",
      "                                                                 \n",
      " batch_normalization_7 (Batc  (None, 54, 54, 64)       256       \n",
      " hNormalization)                                                 \n",
      "                                                                 \n",
      " conv2d_8 (Conv2D)           (None, 52, 52, 128)       73856     \n",
      "                                                                 \n",
      " max_pooling2d_8 (MaxPooling  (None, 26, 26, 128)      0         \n",
      " 2D)                                                             \n",
      "                                                                 \n",
      " batch_normalization_8 (Batc  (None, 26, 26, 128)      512       \n",
      " hNormalization)                                                 \n",
      "                                                                 \n",
      " flatten_2 (Flatten)         (None, 86528)             0         \n",
      "                                                                 \n",
      " dense_4 (Dense)             (None, 128)               11075712  \n",
      "                                                                 \n",
      " dropout_2 (Dropout)         (None, 128)               0         \n",
      "                                                                 \n",
      " dense_5 (Dense)             (None, 1)                 129       \n",
      "                                                                 \n",
      "=================================================================\n",
      "Total params: 11,169,985\n",
      "Trainable params: 11,169,537\n",
      "Non-trainable params: 448\n",
      "_________________________________________________________________\n"
     ]
    }
   ],
   "source": [
    "model.compile(optimizer=optimizer, loss=loss_function, metrics=['accuracy'])\n",
    "model.summary()"
   ]
  },
  {
   "cell_type": "code",
   "execution_count": 16,
   "id": "95ec36f3-050f-4b37-8f98-1b30d763e05c",
   "metadata": {},
   "outputs": [
    {
     "name": "stdout",
     "output_type": "stream",
     "text": [
      "Epoch 1/30\n",
      "23/23 [==============================] - 13s 532ms/step - loss: 21.0505 - accuracy: 0.7500 - val_loss: 163.5540 - val_accuracy: 0.5063\n",
      "Epoch 2/30\n",
      "23/23 [==============================] - 12s 485ms/step - loss: 14.2406 - accuracy: 0.7992 - val_loss: 95.7514 - val_accuracy: 0.4812\n",
      "Epoch 3/30\n",
      "23/23 [==============================] - 12s 522ms/step - loss: 4.7792 - accuracy: 0.8104 - val_loss: 53.1589 - val_accuracy: 0.5000\n",
      "Epoch 4/30\n",
      "23/23 [==============================] - 12s 506ms/step - loss: 3.4547 - accuracy: 0.8202 - val_loss: 25.8859 - val_accuracy: 0.5063\n",
      "Epoch 5/30\n",
      "23/23 [==============================] - 12s 520ms/step - loss: 2.2177 - accuracy: 0.8048 - val_loss: 8.3645 - val_accuracy: 0.5125\n",
      "Epoch 6/30\n",
      "23/23 [==============================] - 12s 504ms/step - loss: 1.6489 - accuracy: 0.8315 - val_loss: 4.9398 - val_accuracy: 0.5063\n",
      "Epoch 7/30\n",
      "23/23 [==============================] - 12s 509ms/step - loss: 0.8940 - accuracy: 0.8160 - val_loss: 4.5837 - val_accuracy: 0.4875\n",
      "Epoch 8/30\n",
      "23/23 [==============================] - 12s 506ms/step - loss: 1.7488 - accuracy: 0.8230 - val_loss: 4.8897 - val_accuracy: 0.5063\n",
      "Epoch 9/30\n",
      "23/23 [==============================] - 12s 508ms/step - loss: 0.8178 - accuracy: 0.7865 - val_loss: 2.4505 - val_accuracy: 0.5312\n",
      "Epoch 10/30\n",
      "23/23 [==============================] - 12s 511ms/step - loss: 0.6348 - accuracy: 0.8202 - val_loss: 3.0152 - val_accuracy: 0.5125\n",
      "Epoch 11/30\n",
      "23/23 [==============================] - 12s 507ms/step - loss: 1.0667 - accuracy: 0.8357 - val_loss: 5.0374 - val_accuracy: 0.4812\n",
      "Epoch 12/30\n",
      "23/23 [==============================] - 12s 508ms/step - loss: 0.7811 - accuracy: 0.8272 - val_loss: 3.7534 - val_accuracy: 0.4750\n",
      "Epoch 13/30\n",
      "23/23 [==============================] - 12s 535ms/step - loss: 0.5552 - accuracy: 0.8329 - val_loss: 1.7759 - val_accuracy: 0.5000\n",
      "Epoch 14/30\n",
      "23/23 [==============================] - 12s 532ms/step - loss: 0.4931 - accuracy: 0.8329 - val_loss: 1.3124 - val_accuracy: 0.4688\n",
      "Epoch 15/30\n",
      "23/23 [==============================] - 12s 506ms/step - loss: 0.6324 - accuracy: 0.8483 - val_loss: 2.2064 - val_accuracy: 0.4875\n",
      "Epoch 16/30\n",
      "23/23 [==============================] - 12s 510ms/step - loss: 0.5996 - accuracy: 0.8511 - val_loss: 0.6966 - val_accuracy: 0.5562\n",
      "Epoch 17/30\n",
      "23/23 [==============================] - 12s 515ms/step - loss: 0.4265 - accuracy: 0.8441 - val_loss: 1.0409 - val_accuracy: 0.5188\n",
      "Epoch 18/30\n",
      "23/23 [==============================] - 12s 508ms/step - loss: 0.6048 - accuracy: 0.8399 - val_loss: 3.4018 - val_accuracy: 0.5063\n",
      "Epoch 19/30\n",
      "23/23 [==============================] - 12s 505ms/step - loss: 0.6390 - accuracy: 0.8230 - val_loss: 0.6321 - val_accuracy: 0.5562\n",
      "Epoch 20/30\n",
      "23/23 [==============================] - 12s 505ms/step - loss: 0.5530 - accuracy: 0.8413 - val_loss: 0.6978 - val_accuracy: 0.5375\n",
      "Epoch 21/30\n",
      "23/23 [==============================] - 12s 506ms/step - loss: 0.6380 - accuracy: 0.8202 - val_loss: 2.3124 - val_accuracy: 0.5375\n",
      "Epoch 22/30\n",
      "23/23 [==============================] - 12s 508ms/step - loss: 0.5928 - accuracy: 0.8301 - val_loss: 0.4973 - val_accuracy: 0.7000\n",
      "Epoch 23/30\n",
      "23/23 [==============================] - 12s 513ms/step - loss: 0.5374 - accuracy: 0.8399 - val_loss: 0.5511 - val_accuracy: 0.7000\n",
      "Epoch 24/30\n",
      "23/23 [==============================] - 12s 513ms/step - loss: 0.5246 - accuracy: 0.8441 - val_loss: 0.3371 - val_accuracy: 0.7563\n",
      "Epoch 25/30\n",
      "23/23 [==============================] - 12s 521ms/step - loss: 0.4545 - accuracy: 0.8287 - val_loss: 0.4916 - val_accuracy: 0.7000\n",
      "Epoch 26/30\n",
      "23/23 [==============================] - 12s 510ms/step - loss: 0.3890 - accuracy: 0.8357 - val_loss: 0.1988 - val_accuracy: 0.9187\n",
      "Epoch 27/30\n",
      "23/23 [==============================] - 12s 517ms/step - loss: 0.3237 - accuracy: 0.8764 - val_loss: 0.3321 - val_accuracy: 0.7812\n",
      "Epoch 28/30\n",
      "23/23 [==============================] - 12s 513ms/step - loss: 0.4809 - accuracy: 0.8750 - val_loss: 0.3300 - val_accuracy: 0.8625\n",
      "Epoch 29/30\n",
      "23/23 [==============================] - 12s 501ms/step - loss: 0.3906 - accuracy: 0.8666 - val_loss: 0.2464 - val_accuracy: 0.8687\n",
      "Epoch 30/30\n",
      "23/23 [==============================] - 12s 511ms/step - loss: 0.4132 - accuracy: 0.8413 - val_loss: 0.2802 - val_accuracy: 0.9563\n"
     ]
    }
   ],
   "source": [
    "history = model.fit(\n",
    "    train_generator,\n",
    "    steps_per_epoch=train_generator.samples // batch_size,\n",
    "    validation_data=validation_generator,\n",
    "    validation_steps=validation_generator.samples // batch_size,\n",
    "    epochs=no_epochs,\n",
    "    verbose=verbosity\n",
    ")"
   ]
  },
  {
   "cell_type": "code",
   "execution_count": 17,
   "id": "0df6b192-f1fb-47df-b82c-9b05ae11a3aa",
   "metadata": {},
   "outputs": [
    {
     "data": {
      "image/png": "[encoded data removed]",
      "text/plain": [
       "<Figure size 640x480 with 1 Axes>"
      ]
     },
     "metadata": {},
     "output_type": "display_data"
    }
   ],
   "source": [
    "from matplotlib import pyplot as plt\n",
    "plt.plot(history.history['accuracy'])\n",
    "plt.plot(history.history['val_accuracy'])\n",
    "plt.title('model accuracy')\n",
    "plt.ylabel('accuracy')\n",
    "plt.xlabel('epoch')\n",
    "plt.legend(['train', 'val'], loc='upper left')\n",
    "plt.show()"
   ]
  },
  {
   "cell_type": "code",
   "execution_count": null,
   "id": "008179d4-ee38-4f71-9771-92be4212d679",
   "metadata": {},
   "outputs": [],
   "source": []
  }
 ],
 "metadata": {
  "kernelspec": {
   "display_name": "Python 3 (ipykernel)",
   "language": "python",
   "name": "python3"
  },
  "language_info": {
   "codemirror_mode": {
    "name": "ipython",
    "version": 3
   },
   "file_extension": ".py",
   "mimetype": "text/x-python",
   "name": "python",
   "nbconvert_exporter": "python",
   "pygments_lexer": "ipython3",
   "version": "3.9.18"
  }
 },
 "nbformat": 4,
 "nbformat_minor": 5
}
