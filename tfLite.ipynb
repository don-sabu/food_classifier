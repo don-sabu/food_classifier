{
 "cells": [
  {
   "cell_type": "code",
   "execution_count": 1,
   "id": "bd248ddd-4a79-4a59-bf25-5751929534ad",
   "metadata": {},
   "outputs": [],
   "source": [
    "import tensorflow as tf"
   ]
  },
  {
   "cell_type": "code",
   "execution_count": 2,
   "id": "a3b6437c-048f-4b4d-8e59-2949e69226cc",
   "metadata": {},
   "outputs": [],
   "source": [
    "model = tf.keras.models.load_model('VGG16_model.h5')"
   ]
  },
  {
   "cell_type": "code",
   "execution_count": 3,
   "id": "48a5df2d-12f5-43d9-ae6c-06548715be21",
   "metadata": {},
   "outputs": [
    {
     "name": "stderr",
     "output_type": "stream",
     "text": [
      "WARNING:absl:Found untraced functions such as _jit_compiled_convolution_op, _jit_compiled_convolution_op, _jit_compiled_convolution_op, _jit_compiled_convolution_op, _jit_compiled_convolution_op while saving (showing 5 of 13). These functions will not be directly callable after loading.\n"
     ]
    },
    {
     "name": "stdout",
     "output_type": "stream",
     "text": [
      "INFO:tensorflow:Assets written to: C:\\Users\\Don\\AppData\\Local\\Temp\\tmpgxykppwd\\assets\n"
     ]
    },
    {
     "name": "stderr",
     "output_type": "stream",
     "text": [
      "INFO:tensorflow:Assets written to: C:\\Users\\Don\\AppData\\Local\\Temp\\tmpgxykppwd\\assets\n"
     ]
    }
   ],
   "source": [
    "tflite_model = tf.lite.TFLiteConverter.from_keras_model(model).convert()"
   ]
  },
  {
   "cell_type": "code",
   "execution_count": 4,
   "id": "c3905e77-d44d-4add-b97e-d41d4f2432aa",
   "metadata": {},
   "outputs": [],
   "source": [
    "with open('VGG16_model.tflite', 'wb') as f:\n",
    "    f.write(tflite_model)"
   ]
  },
  {
   "cell_type": "code",
   "execution_count": null,
   "id": "bea963d1-a6b9-40d3-a9af-09a0a95391d2",
   "metadata": {},
   "outputs": [],
   "source": []
  }
 ],
 "metadata": {
  "kernelspec": {
   "display_name": "Python 3 (ipykernel)",
   "language": "python",
   "name": "python3"
  },
  "language_info": {
   "codemirror_mode": {
    "name": "ipython",
    "version": 3
   },
   "file_extension": ".py",
   "mimetype": "text/x-python",
   "name": "python",
   "nbconvert_exporter": "python",
   "pygments_lexer": "ipython3",
   "version": "3.9.18"
  }
 },
 "nbformat": 4,
 "nbformat_minor": 5
}
